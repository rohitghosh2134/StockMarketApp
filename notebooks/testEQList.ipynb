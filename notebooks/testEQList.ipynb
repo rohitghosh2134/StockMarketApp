{
 "cells": [
  {
   "cell_type": "code",
   "execution_count": 7,
   "metadata": {},
   "outputs": [
    {
     "name": "stdout",
     "output_type": "stream",
     "text": [
      "✅ Total rows matching 'NSE : {stockName} - EQ': 2065\n"
     ]
    }
   ],
   "source": [
    "import pandas as pd\n",
    "\n",
    "# Path to your CSV file\n",
    "file_path = \"../data/stockList/NSE_CM.csv\"\n",
    "\n",
    "# Load the CSV file\n",
    "df = pd.read_csv(file_path)\n",
    "\n",
    "# Filter rows where symbol_ticker matches the format 'NSE : {stockName} - EQ'\n",
    "filtered_df = df[df['symbol_ticker'].str.contains(r'^NSE\\s*:\\s*.+\\s*-\\s*EQ$', regex=True)]\n",
    "\n",
    "# Print how many rows matched\n",
    "print(f\"✅ Total rows matching 'NSE : {{stockName}} - EQ': {len(filtered_df)}\")\n",
    "\n"
   ]
  },
  {
   "cell_type": "code",
   "execution_count": 11,
   "metadata": {},
   "outputs": [
    {
     "data": {
      "text/html": [
       "<div>\n",
       "<style scoped>\n",
       "    .dataframe tbody tr th:only-of-type {\n",
       "        vertical-align: middle;\n",
       "    }\n",
       "\n",
       "    .dataframe tbody tr th {\n",
       "        vertical-align: top;\n",
       "    }\n",
       "\n",
       "    .dataframe thead th {\n",
       "        text-align: right;\n",
       "    }\n",
       "</style>\n",
       "<table border=\"1\" class=\"dataframe\">\n",
       "  <thead>\n",
       "    <tr style=\"text-align: right;\">\n",
       "      <th></th>\n",
       "      <th>underlying_symbol</th>\n",
       "    </tr>\n",
       "  </thead>\n",
       "  <tbody>\n",
       "    <tr>\n",
       "      <th>0</th>\n",
       "      <td>ABAN</td>\n",
       "    </tr>\n",
       "    <tr>\n",
       "      <th>1</th>\n",
       "      <td>ARE&amp;M</td>\n",
       "    </tr>\n",
       "    <tr>\n",
       "      <th>12</th>\n",
       "      <td>EMAMIPAP</td>\n",
       "    </tr>\n",
       "    <tr>\n",
       "      <th>13</th>\n",
       "      <td>FACT</td>\n",
       "    </tr>\n",
       "    <tr>\n",
       "      <th>16</th>\n",
       "      <td>GODREJCP</td>\n",
       "    </tr>\n",
       "  </tbody>\n",
       "</table>\n",
       "</div>"
      ],
      "text/plain": [
       "   underlying_symbol\n",
       "0               ABAN\n",
       "1              ARE&M\n",
       "12          EMAMIPAP\n",
       "13              FACT\n",
       "16          GODREJCP"
      ]
     },
     "execution_count": 11,
     "metadata": {},
     "output_type": "execute_result"
    }
   ],
   "source": [
    "# Keep only the 'underlying_symbol' column\n",
    "filtered_df = filtered_df[['underlying_symbol']]\n",
    "\n",
    "filtered_df.head()\n"
   ]
  },
  {
   "cell_type": "code",
   "execution_count": 10,
   "metadata": {},
   "outputs": [
    {
     "name": "stdout",
     "output_type": "stream",
     "text": [
      "✅ '3mindia' found in underlying_symbol column.\n"
     ]
    }
   ],
   "source": [
    "# Value to search for (case-insensitive)\n",
    "search_value = \"3mindia\"\n",
    "\n",
    "# Check if it exists in the underlying_symbol column (case-insensitive)\n",
    "match_found = filtered_df['underlying_symbol'].str.lower().eq(search_value.lower()).any()\n",
    "\n",
    "if match_found:\n",
    "    print(f\"✅ '{search_value}' found in underlying_symbol column.\")\n",
    "else:\n",
    "    print(f\"❌ '{search_value}' not found in underlying_symbol column.\")\n"
   ]
  },
  {
   "cell_type": "code",
   "execution_count": null,
   "metadata": {},
   "outputs": [],
   "source": []
  }
 ],
 "metadata": {
  "kernelspec": {
   "display_name": "Python 3",
   "language": "python",
   "name": "python3"
  },
  "language_info": {
   "codemirror_mode": {
    "name": "ipython",
    "version": 3
   },
   "file_extension": ".py",
   "mimetype": "text/x-python",
   "name": "python",
   "nbconvert_exporter": "python",
   "pygments_lexer": "ipython3",
   "version": "3.12.3"
  }
 },
 "nbformat": 4,
 "nbformat_minor": 2
}
