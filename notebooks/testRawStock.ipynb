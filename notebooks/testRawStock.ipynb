{
 "cells": [
  {
   "cell_type": "code",
   "execution_count": 6,
   "id": "c61471fd",
   "metadata": {},
   "outputs": [
    {
     "data": {
      "text/plain": [
       "Index(['DATE', 'SERIES', 'OPEN', 'HIGH', 'LOW', 'PREV. CLOSE', 'LTP', 'CLOSE',\n",
       "       'VWAP', '52W H', '52W L', 'VOLUME', 'VALUE', 'NO OF TRADES', 'SYMBOL'],\n",
       "      dtype='object')"
      ]
     },
     "execution_count": 6,
     "metadata": {},
     "output_type": "execute_result"
    }
   ],
   "source": [
    "from datetime import date\n",
    "from jugaad_data.nse import stock_df\n",
    "df = stock_df(symbol=\"ABAN\", from_date=date(2000,1,1),\n",
    "            to_date=date(2000,6,15), series=\"EQ\")\n",
    "\n",
    "df.columns"
   ]
  },
  {
   "cell_type": "code",
   "execution_count": 1,
   "id": "49e6c11d",
   "metadata": {},
   "outputs": [
    {
     "name": "stdout",
     "output_type": "stream",
     "text": [
      "/home/rohit/Coding/StockMarketPredictor/.venv/bin/python\n"
     ]
    }
   ],
   "source": [
    "!which python"
   ]
  },
  {
   "cell_type": "code",
   "execution_count": 7,
   "id": "26eb7cdd",
   "metadata": {},
   "outputs": [
    {
     "ename": "SyntaxError",
     "evalue": "invalid syntax (72962186.py, line 1)",
     "output_type": "error",
     "traceback": [
      "  \u001b[36mCell\u001b[39m\u001b[36m \u001b[39m\u001b[32mIn[7]\u001b[39m\u001b[32m, line 1\u001b[39m\n\u001b[31m    \u001b[39m\u001b[31msource /home/rohit/Coding/StockMarketPredictor/.venv/bin/activate\u001b[39m\n                                                   ^\n\u001b[31mSyntaxError\u001b[39m\u001b[31m:\u001b[39m invalid syntax\n"
     ]
    }
   ],
   "source": [
    "source /home/rohit/Coding/StockMarketPredictor/.venv/bin/activate\n"
   ]
  },
  {
   "cell_type": "code",
   "execution_count": 3,
   "id": "56593cee",
   "metadata": {},
   "outputs": [
    {
     "name": "stdout",
     "output_type": "stream",
     "text": [
      "❌ Files not up to date (missing 2025-06-13):\n",
      "- V2RETAIL.csv\n",
      "- DELPHIFX.csv\n",
      "- PDMJEPAPER.csv\n",
      "- NIRAJISPAT.csv\n"
     ]
    }
   ],
   "source": [
    "import os\n",
    "import pandas as pd\n",
    "\n",
    "RAW_DATA_DIR = \"../data/rawData\"\n",
    "EXPECTED_DATE = \"2025-06-13\"\n",
    "\n",
    "def check_csv_dates():\n",
    "    files = [f for f in os.listdir(RAW_DATA_DIR) if f.endswith(\".csv\")]\n",
    "    not_up_to_date = []\n",
    "\n",
    "    for file in files:\n",
    "        path = os.path.join(RAW_DATA_DIR, file)\n",
    "        try:\n",
    "            df = pd.read_csv(path)\n",
    "            df.columns = df.columns.str.lower()\n",
    "\n",
    "            if \"date\" not in df.columns:\n",
    "                not_up_to_date.append(file)\n",
    "                continue\n",
    "\n",
    "            df[\"date\"] = pd.to_datetime(df[\"date\"], errors='coerce')\n",
    "            last_date = df[\"date\"].max().date()\n",
    "\n",
    "            if str(last_date) != EXPECTED_DATE:\n",
    "                not_up_to_date.append(file)\n",
    "        except Exception as e:\n",
    "            print(f\"⚠️ Error reading {file}: {e}\")\n",
    "            not_up_to_date.append(file)\n",
    "\n",
    "    return not_up_to_date\n",
    "\n",
    "# Run and print\n",
    "outdated_files = check_csv_dates()\n",
    "print(\"❌ Files not up to date (missing 2025-06-13):\")\n",
    "for f in outdated_files:\n",
    "    print(f\"- {f}\")\n"
   ]
  },
  {
   "cell_type": "code",
   "execution_count": 3,
   "id": "d3bf1a1b",
   "metadata": {},
   "outputs": [
    {
     "name": "stdout",
     "output_type": "stream",
     "text": [
      "🔍 Last traded dates for missing symbols:\n",
      "\n",
      "- V2RETAIL: Not found in stockList_raw.csv\n",
      "- DELPHIFX: Not found in stockList_raw.csv\n",
      "- PDMJEPAPER: Not found in stockList_raw.csv\n",
      "- NIRAJISPAT: Not found in stockList_raw.csv\n"
     ]
    }
   ],
   "source": [
    "import pandas as pd\n",
    "\n",
    "# File path\n",
    "raw_stock_list = \"../data/stockList/stockList_raw.csv\"\n",
    "\n",
    "# Symbols to check\n",
    "symbols_to_check = [\"V2RETAIL\", \"DELPHIFX\", \"PDMJEPAPER\", \"NIRAJISPAT\"]\n",
    "\n",
    "# Read the CSV\n",
    "try:\n",
    "    df_raw = pd.read_csv(raw_stock_list)\n",
    "except Exception as e:\n",
    "    print(f\"❌ Failed to read CSV: {e}\")\n",
    "    exit(1)\n",
    "\n",
    "# Convert first column (symbol) to uppercase strings\n",
    "symbol_col = df_raw.columns[0]\n",
    "df_raw[symbol_col] = df_raw[symbol_col].astype(str).str.upper()\n",
    "\n",
    "# Detect the last traded date column\n",
    "date_col_candidates = [col for col in df_raw.columns if \"DATE\" in col.upper() and \"TRADED\" in col.upper()]\n",
    "date_col = date_col_candidates[0] if date_col_candidates else None\n",
    "\n",
    "print(\"🔍 Last traded dates for missing symbols:\\n\")\n",
    "\n",
    "for symbol in symbols_to_check:\n",
    "    row = df_raw[df_raw[symbol_col] == symbol]\n",
    "    if row.empty:\n",
    "        print(f\"- {symbol}: Not found in stockList_raw.csv\")\n",
    "    elif date_col:\n",
    "        print(f\"- {symbol}: {row.iloc[0][date_col]}\")\n",
    "    else:\n",
    "        print(f\"- {symbol}: Found, but 'last traded date' column not detected.\")\n"
   ]
  },
  {
   "cell_type": "code",
   "execution_count": null,
   "id": "3163cc3e",
   "metadata": {},
   "outputs": [],
   "source": []
  }
 ],
 "metadata": {
  "kernelspec": {
   "display_name": "myenv",
   "language": "python",
   "name": "python3"
  },
  "language_info": {
   "codemirror_mode": {
    "name": "ipython",
    "version": 3
   },
   "file_extension": ".py",
   "mimetype": "text/x-python",
   "name": "python",
   "nbconvert_exporter": "python",
   "pygments_lexer": "ipython3",
   "version": "3.12.3"
  }
 },
 "nbformat": 4,
 "nbformat_minor": 5
}
